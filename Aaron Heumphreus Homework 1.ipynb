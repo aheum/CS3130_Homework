{
 "cells": [
  {
   "cell_type": "code",
   "execution_count": 8,
   "metadata": {},
   "outputs": [],
   "source": [
    "import numpy as np\n",
    "import pandas as pd\n",
    "from numpy.random import default_rng\n",
    "import math\n",
    "import random"
   ]
  },
  {
   "cell_type": "code",
   "execution_count": 67,
   "metadata": {},
   "outputs": [
    {
     "name": "stdout",
     "output_type": "stream",
     "text": [
      "5\n",
      "23\n"
     ]
    }
   ],
   "source": [
    "#Parameters\n",
    "#n, iteration\n",
    "n=random.randint(1,10)\n",
    "print(n)\n",
    "#d, digits (applies for random generation of x)\n",
    "d=random.randint(0,9)\n",
    "#x, value\n",
    "ran=10**d\n",
    "x=random.randint(0,ran)\n",
    "print(x)"
   ]
  },
  {
   "cell_type": "code",
   "execution_count": 68,
   "metadata": {},
   "outputs": [
    {
     "name": "stdout",
     "output_type": "stream",
     "text": [
      "[93, 12834, 49735, 8, 811660769]\n"
     ]
    }
   ],
   "source": [
    "#Print polynomial\n",
    "coefficients=[]\n",
    "for i in range(n):\n",
    "    #d, digits (applies for random generation of coefficients)\n",
    "    d=random.randint(0,9)\n",
    "    #c, coefficient, the placement coefficient before x\n",
    "    ran=10**d\n",
    "    c=random.randint(0,ran)\n",
    "    coefficients.append(c)\n",
    "print(coefficients)"
   ]
  },
  {
   "attachments": {},
   "cell_type": "markdown",
   "metadata": {},
   "source": [
    "Project description:\n",
    "In this project, we will compare two different algorithms that are used to evaluate\n",
    "polynomials. The goal is to understand the importance of the efficiency of an algorithm.\n",
    "The first algorithm is the brute force method in which we evaluate polynomials in the\n",
    "usual way. The second algorithm uses the Horner’s Rule to evaluate polynomials. The\n",
    "polynomials to be evaluated have the following general form:\n",
    "P(x)=a0+a1x+a2x^2+...+anx^n"
   ]
  },
  {
   "cell_type": "code",
   "execution_count": 69,
   "metadata": {},
   "outputs": [
    {
     "name": "stdout",
     "output_type": "stream",
     "text": [
      "811723439\n"
     ]
    }
   ],
   "source": [
    "#Brute Force\n",
    "j=0\n",
    "total=0\n",
    "for i in coefficients:\n",
    "    total=total+i*(x**j)\n",
    "bruteforcetotal=total\n",
    "print(bruteforcetotal)"
   ]
  },
  {
   "cell_type": "code",
   "execution_count": null,
   "metadata": {},
   "outputs": [],
   "source": [
    "#Horner's Rule\n",
    "\n"
   ]
  }
 ],
 "metadata": {
  "kernelspec": {
   "display_name": "base",
   "language": "python",
   "name": "python3"
  },
  "language_info": {
   "codemirror_mode": {
    "name": "ipython",
    "version": 3
   },
   "file_extension": ".py",
   "mimetype": "text/x-python",
   "name": "python",
   "nbconvert_exporter": "python",
   "pygments_lexer": "ipython3",
   "version": "3.8.5"
  },
  "orig_nbformat": 4
 },
 "nbformat": 4,
 "nbformat_minor": 2
}
